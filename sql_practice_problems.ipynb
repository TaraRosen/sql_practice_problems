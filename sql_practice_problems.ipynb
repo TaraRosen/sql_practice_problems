{
 "cells": [
  {
   "cell_type": "markdown",
   "metadata": {},
   "source": [
    "## SQL Practice Problems\n",
    "### 57 beginning, intermediate, and advanced challenges for you to solve using a “learn-by-doing” approach\n",
    "#### MySQL version\n",
    "##### Sylvia Moestl"
   ]
  },
  {
   "cell_type": "markdown",
   "metadata": {},
   "source": [
    "/*20. Categories, and the total products in each category\n",
    "For this problem, we’d like to see the total number of products \n",
    "in each category. Sort the results by the total number of \n",
    "products, in descending order.*/"
   ]
  },
  {
   "cell_type": "code",
   "execution_count": null,
   "metadata": {},
   "outputs": [],
   "source": [
    "SELECT * FROM categories;\n",
    "SELECT * FROM products;\n",
    "\n",
    "SELECT c.categoryname, COUNT(*) AS total_products\n",
    "FROM products p\n",
    "JOIN categories c\n",
    "\tON p.categoryid=c.categoryid\n",
    "GROUP BY c.categoryname\n",
    "ORDER BY 2 DESC;"
   ]
  },
  {
   "cell_type": "markdown",
   "metadata": {},
   "source": [
    "/*21. Total customers per country/city\n",
    "In the Customers table, show the total number of customers per \n",
    "Country and City.*/"
   ]
  },
  {
   "cell_type": "code",
   "execution_count": null,
   "metadata": {},
   "outputs": [],
   "source": [
    "SELECT * FROM customers;\n",
    "\n",
    "SELECT COUNT(contactname) AS total_customers, city, country\n",
    "FROM customers\n",
    "GROUP BY country, city\n",
    "ORDER BY 1 DESC;"
   ]
  },
  {
   "cell_type": "markdown",
   "metadata": {},
   "source": [
    "/*22. Products that need reordering\n",
    "What products do we have in our inventory that should be \n",
    "reordered? For now, just use the fields UnitsInStock and \n",
    "ReorderLevel, where UnitsInStock is less than or equal \n",
    "to the ReorderLevel, Ignore the fields UnitsOnOrder \n",
    "and Discontinued. Sort the results by ProductID.*/"
   ]
  },
  {
   "cell_type": "code",
   "execution_count": null,
   "metadata": {},
   "outputs": [],
   "source": [
    "SELECT productid, productname, unitsinstock, reorderlevel \n",
    "FROM products\n",
    "WHERE unitsinstock <= reorderlevel\n",
    "ORDER BY productid;"
   ]
  },
  {
   "cell_type": "markdown",
   "metadata": {},
   "source": [
    "/*23. Products that need reordering, continued\n",
    "Now we need to incorporate these fields — UnitsInStock, \n",
    "UnitsOnOrder, ReorderLevel, Discontinued—into our \n",
    "calculation. We’ll define “products that need \n",
    "reordering” with the following:\n",
    "• UnitsInStock plus UnitsOnOrder are less than or equal to ReorderLevel\n",
    "• The Discontinued flag is false (0).*/"
   ]
  },
  {
   "cell_type": "code",
   "execution_count": null,
   "metadata": {},
   "outputs": [],
   "source": [
    "SELECT productid, productname, unitsinstock, unitsonorder, reorderlevel, discontinued\n",
    "FROM products\n",
    "WHERE (unitsinstock + unitsonorder) <= reorderlevel\n",
    "AND discontinued = false;"
   ]
  },
  {
   "cell_type": "markdown",
   "metadata": {},
   "source": [
    "/*24. A salesperson for Northwind is going on a business trip to \n",
    "visit customers. He would like to see a list of all customers, \n",
    "sorted by region, alphabetically. However, he wants the customers \n",
    "with no region (null in the Region field) to be at the end, \n",
    "instead of at the top, where you’d normally find the null values. \n",
    "Within the same region, companies should be sorted by CustomerID.*/"
   ]
  },
  {
   "cell_type": "code",
   "execution_count": null,
   "metadata": {},
   "outputs": [],
   "source": [
    "SELECT  customerid, \n",
    "        companyname, \n",
    "        region\n",
    "FROM customers\n",
    "ORDER BY  CASE \n",
    "                WHEN region IS NULL THEN 1 \n",
    "                ELSE 0 \n",
    "          END, \n",
    "          3, 1;"
   ]
  },
  {
   "cell_type": "markdown",
   "metadata": {},
   "source": [
    "/*25.  Some of the countries we ship to have very high freight charges. \n",
    "We'd like to investigate some more shipping options for our customers, \n",
    "to be able to offer them lower freight charges. Return the three ship \n",
    "countries with the highest average freight overall, in descending \n",
    "order by average freight.*/"
   ]
  },
  {
   "cell_type": "code",
   "execution_count": null,
   "metadata": {},
   "outputs": [],
   "source": [
    "SELECT  shipcountry,\n",
    "        ROUND(AVG(freight), 2) AS average_freight\n",
    "FROM orders\n",
    "GROUP BY shipcountry\n",
    "ORDER BY 2 DESC\n",
    "LIMIT 3\n",
    ";"
   ]
  },
  {
   "cell_type": "markdown",
   "metadata": {},
   "source": [
    "/*26. We're continuing on the question above on high freight charges. Now, instead of using all the orders we have, we only want to see orders from the year 2015.*/"
   ]
  },
  {
   "cell_type": "code",
   "execution_count": null,
   "metadata": {},
   "outputs": [],
   "source": [
    "SELECT  shipcountry,\n",
    "        ROUND(AVG(freight), 2) as average_freight\n",
    "FROM orders\n",
    "WHERE YEAR(orderdate) = 2015\n",
    "GROUP BY 1\n",
    "ORDER BY 2 DESC\n",
    "LIMIT 3\n",
    ";\n",
    "\n",
    "\n",
    "Alternate Syntaxes\n",
    "-- WHERE DATE_FORMAT(orderdate, '%Y') = 2015\n",
    "-- Where\n",
    "          OrderDate >= '2015-01-01'\n",
    "          and OrderDate < '2016-01-01'"
   ]
  },
  {
   "cell_type": "markdown",
   "metadata": {},
   "source": [
    "<img src=\"Screen Shot 2020-01-23 at 11.47.12 AM.png\">"
   ]
  },
  {
   "cell_type": "markdown",
   "metadata": {},
   "source": [
    "/*27. Another (incorrect) answer to the problem above is this: <br/>\n",
    "\n",
    "Select <br/>\n",
    "ShipCountry <br/>\n",
    ",avg(freight) as AverageFreight <br/>\n",
    "From Orders <br/>\n",
    "Where <br/>\n",
    "OrderDate between '2015-01-01' and '2015-12-31' <br/>\n",
    "Group By ShipCountry <br/>\n",
    "Order By AverageFreight desc <br/>\n",
    "Limit 3; <br/>\n",
    "\n",
    "Notice when you run this, it gives Sweden as the ShipCountry \n",
    "with the third highest freight charges. However, this is wrong\n",
    " — it should be France. Find the OrderID that is causing \n",
    " the SQL statement above to be incorrect.*/"
   ]
  },
  {
   "cell_type": "code",
   "execution_count": null,
   "metadata": {},
   "outputs": [],
   "source": [
    "SELECT  shipcountry,\n",
    "        ROUND(AVG(freight), 2) as average_freight\n",
    "FROM orders\n",
    "WHERE\n",
    "        orderdate BETWEEN '2015-01-01' AND '2015-12-31'\n",
    "GROUP BY \n",
    "        shipcountry\n",
    "ORDER BY \n",
    "        average_freight DESC\n",
    "LIMIT 3\n",
    ";"
   ]
  },
  {
   "cell_type": "markdown",
   "metadata": {},
   "source": [
    "<img src=\"Screen Shot 2020-01-23 at 11.40.45 AM.png\">"
   ]
  },
  {
   "cell_type": "code",
   "execution_count": null,
   "metadata": {},
   "outputs": [],
   "source": [
    "SELECT\n",
    "        orderid,\n",
    "        shipcountry,\n",
    "        orderdate,\n",
    "        freight\n",
    "FROM \n",
    "        orders\n",
    "WHERE\n",
    "        YEAR(orderdate) = 2015\n",
    "        AND shipcountry = 'france'\n",
    "ORDER BY 2\n",
    ";"
   ]
  },
  {
   "cell_type": "markdown",
   "metadata": {},
   "source": [
    "<img src=\"Screen Shot 2020-01-23 at 11.50.00 AM.png\">"
   ]
  },
  {
   "cell_type": "code",
   "execution_count": null,
   "metadata": {},
   "outputs": [],
   "source": [
    "SELECT\n",
    "        orderid,\n",
    "        shipcountry,\n",
    "        orderdate,\n",
    "        freight\n",
    "FROM \n",
    "        orders\n",
    "WHERE\n",
    "        orderdate BETWEEN '2015-01-01' AND '2015-12-31'\n",
    "        AND shipcountry = 'france'\n",
    "ORDER BY 2\n",
    ";"
   ]
  },
  {
   "cell_type": "markdown",
   "metadata": {},
   "source": [
    "<img src=\"Screen Shot 2020-01-23 at 11.51.52 AM.png\">"
   ]
  },
  {
   "cell_type": "code",
   "execution_count": null,
   "metadata": {},
   "outputs": [],
   "source": [
    "SELECT\n",
    "        orderid,\n",
    "        shipcountry,\n",
    "        orderdate,\n",
    "        freight\n",
    "FROM \n",
    "        orders\n",
    "WHERE\n",
    "        YEAR(orderdate) = 2015\n",
    "        AND shipcountry = 'sweden'\n",
    "ORDER BY 2\n",
    ";"
   ]
  },
  {
   "cell_type": "markdown",
   "metadata": {},
   "source": [
    "<img src=\"Screen Shot 2020-01-23 at 11.53.37 AM.png\">"
   ]
  },
  {
   "cell_type": "code",
   "execution_count": null,
   "metadata": {},
   "outputs": [],
   "source": [
    "SELECT\n",
    "        orderid,\n",
    "        shipcountry,\n",
    "        orderdate,\n",
    "        freight\n",
    "FROM \n",
    "        orders\n",
    "WHERE\n",
    "        orderdate BETWEEN '2015-01-01' AND '2015-12-31'\n",
    "        AND shipcountry = 'sweden'\n",
    "ORDER BY 2\n",
    ";"
   ]
  },
  {
   "cell_type": "markdown",
   "metadata": {},
   "source": [
    "<img src=\"Screen Shot 2020-01-23 at 11.53.44 AM.png\">"
   ]
  },
  {
   "cell_type": "markdown",
   "metadata": {},
   "source": [
    "### orderdate is a DATETIME datatype, therefore,'2015-12-31' in your query is equivalent to 2015-12-31 00:00:00.000.\n",
    "### In the incorrect query, this would leave recordid 10806 out of the calculation as its datetime is 2015-12-31 11:00:00.000. Without this value, Sweden jumps ahead of France in the calculation.\n",
    "\n",
    "<img src=\"Screen Shot 2020-01-23 at 11.56.32 AM.png\">"
   ]
  },
  {
   "cell_type": "markdown",
   "metadata": {},
   "source": [
    "/*28. High Freight Charges — Last Year\n",
    "We're continuing to work on high freight charges. We now want \n",
    "to get the three ship countries with the highest average freight \n",
    "charges. But instead of filtering for a particular year, we want \n",
    "to use the last 12 months of order data, using as the end date \n",
    "the last OrderDate in Orders.*/"
   ]
  },
  {
   "cell_type": "code",
   "execution_count": null,
   "metadata": {},
   "outputs": [],
   "source": [
    "SELECT \n",
    "        shipcountry,\n",
    "        ROUND(AVG(freight), 2) AS average_freight\n",
    "FROM orders\n",
    "WHERE\n",
    "        orderdate >= \n",
    "            DATE_ADD((SELECT MAX(orderdate) FROM orders), INTERVAL -1 YEAR) \n",
    "            -- The DATE_ADD() function adds a time/date interval to a date and then returns the date\n",
    "GROUP BY 1\n",
    "ORDER BY 2 DESC\n",
    "LIMIT 3;"
   ]
  },
  {
   "cell_type": "markdown",
   "metadata": {},
   "source": [
    "<img src=\"Screen Shot 2020-01-23 at 1.33.12 PM.png\">"
   ]
  },
  {
   "cell_type": "markdown",
   "metadata": {},
   "source": [
    "/*29. Employee/Order Detail Report\n",
    "We're doing inventory, and need to show Employee and Order Detail \n",
    "information like the below, for all orders. \n",
    "Sort by OrderID and Product ID.*/"
   ]
  },
  {
   "cell_type": "code",
   "execution_count": null,
   "metadata": {},
   "outputs": [],
   "source": [
    "SELECT \n",
    "        e.employeeid,\n",
    "        e.lastname,\n",
    "        o.orderid,\n",
    "        p.productname,\n",
    "        od.quantity\n",
    "FROM employees e\n",
    "    JOIN orders o\n",
    "        ON e.employeeid = o.employeeid\n",
    "    JOIN orderdetails od\n",
    "        ON o.orderid = od.orderid\n",
    "    JOIN products p\n",
    "        ON od.productid = p.productid\n",
    "ORDER BY 3, p.productid\n",
    ";"
   ]
  },
  {
   "cell_type": "markdown",
   "metadata": {},
   "source": [
    "/*30. Customers With No Orders\n",
    "There are some customers who have never actually \n",
    "placed an order. Show these customers.*/"
   ]
  },
  {
   "cell_type": "code",
   "execution_count": null,
   "metadata": {},
   "outputs": [],
   "source": [
    "SELECT  c.customerid,\n",
    "        o.orderid\n",
    "FROM customers c\n",
    "    LEFT JOIN orders o\n",
    "        ON c.customerid = o.customerid\n",
    "WHERE o.orderid IS NULL"
   ]
  },
  {
   "cell_type": "markdown",
   "metadata": {},
   "source": [
    "<img src=\"Screen Shot 2020-01-25 at 11.34.49 AM.png\">"
   ]
  },
  {
   "cell_type": "markdown",
   "metadata": {},
   "source": [
    "/*31. Customers With No Orders For EmployeeID 4\n",
    "One employee (Margaret Peacock, EmployeeID 4) has \n",
    "placed the most orders. However, there are some \n",
    "customers who've never placed an order with her. \n",
    "Show only those customers who have never placed\n",
    " an order with her.*/"
   ]
  },
  {
   "cell_type": "code",
   "execution_count": null,
   "metadata": {},
   "outputs": [],
   "source": [
    "SELECT  c.customerid,\n",
    "        o.customerid\n",
    "FROM customers c\n",
    "    LEFT JOIN orders o\n",
    "        ON   o.customerid = c.customerid\n",
    "        AND o.employeeid = 4 \n",
    "WHERE o.customerid IS NULL\n",
    "\n",
    "# Because the filters in the Where clause are applied \n",
    "# after the results of the Join, we need the \n",
    "# EmployeeID = 4 filter in the Join clause, instead \n",
    "# of the Where clause. \n",
    "\n",
    "# This query returns all of the\n",
    "# rows from the customers table and all the rows from \n",
    "# the orders table where the employeeid = 4. For the\n",
    "# rows in the customers table without a match from the\n",
    "# orders table, a NULL value will be returned in the\n",
    "# employeeid field and the customerid field. I then\n",
    "# return just those NULL customers as they are the \n",
    "# customers that have never ordered from employee #4.)"
   ]
  },
  {
   "cell_type": "markdown",
   "metadata": {},
   "source": [
    "<img src=\"Screen Shot 2020-01-25 at 1.05.39 PM.png\">"
   ]
  },
  {
   "cell_type": "code",
   "execution_count": null,
   "metadata": {},
   "outputs": [],
   "source": []
  },
  {
   "cell_type": "code",
   "execution_count": null,
   "metadata": {},
   "outputs": [],
   "source": []
  },
  {
   "cell_type": "code",
   "execution_count": null,
   "metadata": {},
   "outputs": [],
   "source": []
  },
  {
   "cell_type": "code",
   "execution_count": null,
   "metadata": {},
   "outputs": [],
   "source": [
    "<img src=\"Screen Shot 2020-01-23 at 11.53.44 AM.png\">"
   ]
  }
 ],
 "metadata": {
  "kernelspec": {
   "display_name": "Python 3",
   "language": "python",
   "name": "python3"
  },
  "language_info": {
   "codemirror_mode": {
    "name": "ipython",
    "version": 3
   },
   "file_extension": ".py",
   "mimetype": "text/x-python",
   "name": "python",
   "nbconvert_exporter": "python",
   "pygments_lexer": "ipython3",
   "version": "3.7.4"
  }
 },
 "nbformat": 4,
 "nbformat_minor": 2
}
