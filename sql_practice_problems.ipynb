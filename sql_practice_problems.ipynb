{
 "cells": [
  {
   "cell_type": "markdown",
   "metadata": {},
   "source": [
    "## SQL Practice Problems\n",
    "### 57 beginning, intermediate, and advanced challenges for you to solve using a “learn-by-doing” approach\n",
    "#### MySQL version\n",
    "##### Sylvia Moestl"
   ]
  },
  {
   "cell_type": "markdown",
   "metadata": {},
   "source": [
    "/*20. Categories, and the total products in each category\n",
    "For this problem, we’d like to see the total number of products \n",
    "in each category. Sort the results by the total number of \n",
    "products, in descending order.*/"
   ]
  },
  {
   "cell_type": "code",
   "execution_count": null,
   "metadata": {},
   "outputs": [],
   "source": [
    "SELECT * FROM categories;\n",
    "SELECT * FROM products;\n",
    "\n",
    "SELECT c.categoryname, COUNT(*) AS total_products\n",
    "FROM products p\n",
    "JOIN categories c\n",
    "\tON p.categoryid=c.categoryid\n",
    "GROUP BY c.categoryname\n",
    "ORDER BY 2 DESC;"
   ]
  },
  {
   "cell_type": "markdown",
   "metadata": {},
   "source": [
    "/*21. Total customers per country/city\n",
    "In the Customers table, show the total number of customers per \n",
    "Country and City.*/"
   ]
  },
  {
   "cell_type": "code",
   "execution_count": null,
   "metadata": {},
   "outputs": [],
   "source": [
    "SELECT * FROM customers;\n",
    "\n",
    "SELECT COUNT(contactname) AS total_customers, city, country\n",
    "FROM customers\n",
    "GROUP BY country, city\n",
    "ORDER BY 1 DESC;"
   ]
  },
  {
   "cell_type": "markdown",
   "metadata": {},
   "source": [
    "/*22. Products that need reordering\n",
    "What products do we have in our inventory that should be \n",
    "reordered? For now, just use the fields UnitsInStock and \n",
    "ReorderLevel, where UnitsInStock is less than or equal \n",
    "to the ReorderLevel, Ignore the fields UnitsOnOrder \n",
    "and Discontinued. Sort the results by ProductID.*/"
   ]
  },
  {
   "cell_type": "code",
   "execution_count": null,
   "metadata": {},
   "outputs": [],
   "source": [
    "SELECT productid, productname, unitsinstock, reorderlevel \n",
    "FROM products\n",
    "WHERE unitsinstock <= reorderlevel\n",
    "ORDER BY productid;"
   ]
  },
  {
   "cell_type": "markdown",
   "metadata": {},
   "source": [
    "/*23. Products that need reordering, continued\n",
    "Now we need to incorporate these fields — UnitsInStock, \n",
    "UnitsOnOrder, ReorderLevel, Discontinued—into our \n",
    "calculation. We’ll define “products that need \n",
    "reordering” with the following:\n",
    "• UnitsInStock plus UnitsOnOrder are less than or equal to ReorderLevel\n",
    "• The Discontinued flag is false (0).*/"
   ]
  },
  {
   "cell_type": "code",
   "execution_count": null,
   "metadata": {},
   "outputs": [],
   "source": [
    "SELECT productid, productname, unitsinstock, unitsonorder, reorderlevel, discontinued\n",
    "FROM products\n",
    "WHERE (unitsinstock + unitsonorder) <= reorderlevel\n",
    "AND discontinued = false;"
   ]
  },
  {
   "cell_type": "code",
   "execution_count": null,
   "metadata": {},
   "outputs": [],
   "source": []
  },
  {
   "cell_type": "code",
   "execution_count": null,
   "metadata": {},
   "outputs": [],
   "source": []
  },
  {
   "cell_type": "code",
   "execution_count": null,
   "metadata": {},
   "outputs": [],
   "source": []
  },
  {
   "cell_type": "code",
   "execution_count": null,
   "metadata": {},
   "outputs": [],
   "source": []
  }
 ],
 "metadata": {
  "kernelspec": {
   "display_name": "Python 3",
   "language": "python",
   "name": "python3"
  },
  "language_info": {
   "codemirror_mode": {
    "name": "ipython",
    "version": 3
   },
   "file_extension": ".py",
   "mimetype": "text/x-python",
   "name": "python",
   "nbconvert_exporter": "python",
   "pygments_lexer": "ipython3",
   "version": "3.7.4"
  }
 },
 "nbformat": 4,
 "nbformat_minor": 2
}
